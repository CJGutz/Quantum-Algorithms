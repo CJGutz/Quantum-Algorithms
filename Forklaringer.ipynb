{
 "cells": [
  {
   "cell_type": "code",
   "execution_count": 1,
   "id": "59889692",
   "metadata": {},
   "outputs": [],
   "source": [
    "#ikke \"from qiskit import *\". Dårlig notasjon\n",
    "import qiskit as q #q er en bokstav vi velger for enkel notasjon senere\n",
    "#for styling fra jupyter\n",
    "%matplotlib inline"
   ]
  },
  {
   "cell_type": "code",
   "execution_count": 2,
   "id": "1b79251c",
   "metadata": {},
   "outputs": [],
   "source": [
    "# variabel = q.QuantumCircuit(antall kvantebits, antall klassiske bits)\n",
    "circuit = q.QuantumCircuit(2,2)\n",
    "# eventuelt variabel = QuantumCircuit(antall kvantebits), men da funker ikke measure()"
   ]
  },
  {
   "cell_type": "code",
   "execution_count": null,
   "id": "4855265f",
   "metadata": {},
   "outputs": [],
   "source": [
    "# setter kretser på ulike kvantebits\n",
    "# valgtKrets.gate(tall på valgt kvantebit)\n",
    "circuit.x(0) #not-gate, flipper 1 til 0 og 0 til 1\n",
    "circuit.cx(0,1) # controlled not-gate, flipper HVIS kontrollen er 1. Første tall er kontrollen\n",
    "circuit.measure([0,1],[0,1]) #valgtKrets.measure([kvantebit, evt. en annen, en til],[klassisk bit, evt. en annen, en til])\n",
    "circuit.draw(output=\"mpl\") #output = \"mpl\" git en annen type tegning. Ellers la parantesen stå"
   ]
  },
  {
   "cell_type": "markdown",
   "id": "68b32f3d",
   "metadata": {},
   "source": [
    "# Importerer IBMQ"
   ]
  },
  {
   "cell_type": "code",
   "execution_count": 4,
   "id": "8d4c1a29",
   "metadata": {},
   "outputs": [
    {
     "name": "stderr",
     "output_type": "stream",
     "text": [
      "configrc.store_credentials:WARNING:2021-07-22 15:59:04,320: Credentials already present. Set overwrite=True to overwrite.\n"
     ]
    }
   ],
   "source": [
    "#Vi må importere IBMQ, ha kontoen klar, få \"ibm-q\" provider, bestemme backend (kvantedatamaskin)\n",
    "\n",
    "from qiskit import IBMQ\n",
    "\n",
    "#IBMQ.save_account(\"token\")\n",
    "IBMQ.save_account(\"03d396a71bf17400015d716f887c0fb71c9c4bf584864e0e1ee677e1f4979294513431873f3eb9a074bc05de0a708645d97432d6514ae287d1ecfa697ec32e6e\")"
   ]
  },
  {
   "cell_type": "code",
   "execution_count": 5,
   "id": "09956721",
   "metadata": {},
   "outputs": [
    {
     "data": {
      "text/plain": [
       "<AccountProvider for IBMQ(hub='ibm-q', group='open', project='main')>"
      ]
     },
     "execution_count": 5,
     "metadata": {},
     "output_type": "execute_result"
    }
   ],
   "source": [
    "IBMQ.load_account()"
   ]
  },
  {
   "cell_type": "code",
   "execution_count": 6,
   "id": "de89e343",
   "metadata": {},
   "outputs": [
    {
     "name": "stdout",
     "output_type": "stream",
     "text": [
      "ibmq_quito has 9 queued and 5 qubits\n",
      "ibmq_qasm_simulator has 2 queued and simulated qubits\n",
      "ibmq_armonk has 1 queued and 1 qubits\n",
      "ibmqx2 has 1 queued and 5 qubits\n",
      "simulator_mps has 2 queued and simulated qubits\n",
      "simulator_statevector has 2 queued and simulated qubits\n",
      "ibmq_bogota has 4 queued and 5 qubits\n",
      "ibmq_santiago has 39 queued and 5 qubits\n",
      "ibmq_belem has 0 queued and 5 qubits\n",
      "ibmq_lima has 10 queued and 5 qubits\n",
      "simulator_extended_stabilizer has 2 queued and simulated qubits\n",
      "simulator_stabilizer has 2 queued and simulated qubits\n",
      "ibmq_manila has 41 queued and 5 qubits\n"
     ]
    }
   ],
   "source": [
    "provider = IBMQ.get_provider(\"ibm-q\")\n",
    "\n",
    "for i in provider.backends():\n",
    "    try:\n",
    "        antall_qubits = len(i.properties().qubits)\n",
    "    except:\n",
    "        antall_qubits = \"simulated\"\n",
    "        \n",
    "    print(f\"{i.name()} has {i.status().pending_jobs} queued and {antall_qubits} qubits\")\n",
    "    \n",
    "#metoden backends() til \"ibm-q\" er en array med kvantedatamaskiner\n",
    "#metoder: name() status() properties() properties().qubits\n"
   ]
  },
  {
   "cell_type": "markdown",
   "id": "4712ca3e",
   "metadata": {},
   "source": [
    "## se jobstatus"
   ]
  },
  {
   "cell_type": "code",
   "execution_count": 7,
   "id": "6bb092d9",
   "metadata": {},
   "outputs": [
    {
     "name": "stdout",
     "output_type": "stream",
     "text": [
      "Job Status: job has successfully run\n"
     ]
    }
   ],
   "source": [
    "from qiskit.tools.monitor import job_monitor # viser oss hvilken plass vi har i køen\n",
    "\n",
    "backend = provider.get_backend(\"ibmqx2\")\n",
    "job = q.execute(circuit, backend=backend, shots = 500)\n",
    "job_monitor(job)"
   ]
  },
  {
   "cell_type": "markdown",
   "id": "e25a1ede",
   "metadata": {},
   "source": [
    "# vis resultat med histogram"
   ]
  },
  {
   "cell_type": "code",
   "execution_count": 8,
   "id": "d5fbe781",
   "metadata": {},
   "outputs": [
    {
     "data": {
      "image/png": "[encoded data removed]",
      "text/plain": [
       "<Figure size 504x360 with 1 Axes>"
      ]
     },
     "execution_count": 8,
     "metadata": {},
     "output_type": "execute_result"
    }
   ],
   "source": [
    "from qiskit.tools.visualization import plot_histogram\n",
    "\n",
    "result = job.result()\n",
    "counts = result.get_counts(circuit)\n",
    "\n",
    "plot_histogram([counts])"
   ]
  },
  {
   "cell_type": "code",
   "execution_count": null,
   "id": "0496520b",
   "metadata": {},
   "outputs": [],
   "source": []
  },
  {
   "cell_type": "code",
   "execution_count": null,
   "id": "96077697",
   "metadata": {},
   "outputs": [],
   "source": []
  },
  {
   "cell_type": "code",
   "execution_count": null,
   "id": "d1dc55cf",
   "metadata": {},
   "outputs": [],
   "source": []
  }
 ],
 "metadata": {
  "kernelspec": {
   "display_name": "Python 3",
   "language": "python",
   "name": "python3"
  },
  "language_info": {
   "codemirror_mode": {
    "name": "ipython",
    "version": 3
   },
   "file_extension": ".py",
   "mimetype": "text/x-python",
   "name": "python",
   "nbconvert_exporter": "python",
   "pygments_lexer": "ipython3",
   "version": "3.8.8"
  }
 },
 "nbformat": 4,
 "nbformat_minor": 5
}
