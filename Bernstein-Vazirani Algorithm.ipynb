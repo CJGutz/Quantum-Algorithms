{
 "cells": [
  {
   "cell_type": "code",
   "execution_count": 1,
   "id": "a2cd03ba",
   "metadata": {},
   "outputs": [],
   "source": [
    "from qiskit import *\n",
    "%matplotlib inline\n",
    "from qiskit.tools.visualization import plot_histogram"
   ]
  },
  {
   "cell_type": "code",
   "execution_count": 9,
   "id": "27fcb7a1",
   "metadata": {},
   "outputs": [],
   "source": [
    "secretnumber = \"100001\""
   ]
  },
  {
   "cell_type": "code",
   "execution_count": 10,
   "id": "970574ae",
   "metadata": {},
   "outputs": [
    {
     "data": {
      "text/plain": [
       "<qiskit.circuit.instructionset.InstructionSet at 0x7fd0d4a401f0>"
      ]
     },
     "execution_count": 10,
     "metadata": {},
     "output_type": "execute_result"
    }
   ],
   "source": [
    "circuit = QuantumCircuit(len(secretnumber)+1,len(secretnumber))\n",
    "\n",
    "#circuit.h([0,1,2,3,4,5])\n",
    "\n",
    "circuit.h(range(len(secretnumber)))\n",
    "circuit.x(len(secretnumber))\n",
    "circuit.h(len(secretnumber))\n",
    "circuit.barrier()\n",
    "\n",
    "for ii, yesno in enumerate(reversed(secretnumber)):\n",
    "    if yesno == '1':\n",
    "        circuit.cx(ii,len(secretnumber))\n",
    "\n",
    "#circuit.cx(5,6)\n",
    "#circuit.cx(3,6)\n",
    "#circuit.cx(0,6)\n",
    "\n",
    "circuit.barrier()\n",
    "circuit.h(range(len(secretnumber)))\n",
    "circuit.barrier()\n",
    "\n",
    "circuit.measure(range(len(secretnumber)),range(len(secretnumber)))"
   ]
  },
  {
   "cell_type": "code",
   "execution_count": 11,
   "id": "00f53e64",
   "metadata": {},
   "outputs": [
    {
     "data": {
      "text/html": [
       "<pre style=\"word-wrap: normal;white-space: pre;background: #fff0;line-height: 1.1;font-family: &quot;Courier New&quot;,Courier,monospace\">     ┌───┐      ░            ░ ┌───┐ ░ ┌─┐               \n",
       "q_0: ┤ H ├──────░───■────────░─┤ H ├─░─┤M├───────────────\n",
       "     ├───┤      ░   │        ░ ├───┤ ░ └╥┘┌─┐            \n",
       "q_1: ┤ H ├──────░───┼────────░─┤ H ├─░──╫─┤M├────────────\n",
       "     ├───┤      ░   │        ░ ├───┤ ░  ║ └╥┘┌─┐         \n",
       "q_2: ┤ H ├──────░───┼────────░─┤ H ├─░──╫──╫─┤M├─────────\n",
       "     ├───┤      ░   │        ░ ├───┤ ░  ║  ║ └╥┘┌─┐      \n",
       "q_3: ┤ H ├──────░───┼────────░─┤ H ├─░──╫──╫──╫─┤M├──────\n",
       "     ├───┤      ░   │        ░ ├───┤ ░  ║  ║  ║ └╥┘┌─┐   \n",
       "q_4: ┤ H ├──────░───┼────────░─┤ H ├─░──╫──╫──╫──╫─┤M├───\n",
       "     ├───┤      ░   │        ░ ├───┤ ░  ║  ║  ║  ║ └╥┘┌─┐\n",
       "q_5: ┤ H ├──────░───┼────■───░─┤ H ├─░──╫──╫──╫──╫──╫─┤M├\n",
       "     ├───┤┌───┐ ░ ┌─┴─┐┌─┴─┐ ░ └───┘ ░  ║  ║  ║  ║  ║ └╥┘\n",
       "q_6: ┤ X ├┤ H ├─░─┤ X ├┤ X ├─░───────░──╫──╫──╫──╫──╫──╫─\n",
       "     └───┘└───┘ ░ └───┘└───┘ ░       ░  ║  ║  ║  ║  ║  ║ \n",
       "c: 6/═══════════════════════════════════╩══╩══╩══╩══╩══╩═\n",
       "                                        0  1  2  3  4  5 </pre>"
      ],
      "text/plain": [
       "     ┌───┐      ░            ░ ┌───┐ ░ ┌─┐               \n",
       "q_0: ┤ H ├──────░───■────────░─┤ H ├─░─┤M├───────────────\n",
       "     ├───┤      ░   │        ░ ├───┤ ░ └╥┘┌─┐            \n",
       "q_1: ┤ H ├──────░───┼────────░─┤ H ├─░──╫─┤M├────────────\n",
       "     ├───┤      ░   │        ░ ├───┤ ░  ║ └╥┘┌─┐         \n",
       "q_2: ┤ H ├──────░───┼────────░─┤ H ├─░──╫──╫─┤M├─────────\n",
       "     ├───┤      ░   │        ░ ├───┤ ░  ║  ║ └╥┘┌─┐      \n",
       "q_3: ┤ H ├──────░───┼────────░─┤ H ├─░──╫──╫──╫─┤M├──────\n",
       "     ├───┤      ░   │        ░ ├───┤ ░  ║  ║  ║ └╥┘┌─┐   \n",
       "q_4: ┤ H ├──────░───┼────────░─┤ H ├─░──╫──╫──╫──╫─┤M├───\n",
       "     ├───┤      ░   │        ░ ├───┤ ░  ║  ║  ║  ║ └╥┘┌─┐\n",
       "q_5: ┤ H ├──────░───┼────■───░─┤ H ├─░──╫──╫──╫──╫──╫─┤M├\n",
       "     ├───┤┌───┐ ░ ┌─┴─┐┌─┴─┐ ░ └───┘ ░  ║  ║  ║  ║  ║ └╥┘\n",
       "q_6: ┤ X ├┤ H ├─░─┤ X ├┤ X ├─░───────░──╫──╫──╫──╫──╫──╫─\n",
       "     └───┘└───┘ ░ └───┘└───┘ ░       ░  ║  ║  ║  ║  ║  ║ \n",
       "c: 6/═══════════════════════════════════╩══╩══╩══╩══╩══╩═\n",
       "                                        0  1  2  3  4  5 "
      ]
     },
     "execution_count": 11,
     "metadata": {},
     "output_type": "execute_result"
    }
   ],
   "source": [
    "circuit.draw()"
   ]
  },
  {
   "cell_type": "code",
   "execution_count": 12,
   "id": "23186f1b",
   "metadata": {
    "scrolled": true
   },
   "outputs": [
    {
     "name": "stdout",
     "output_type": "stream",
     "text": [
      "{'100001': 100000}\n"
     ]
    }
   ],
   "source": [
    "simulator = Aer.get_backend('qasm_simulator')\n",
    "result = execute(circuit, backend = simulator,shots=100000).result()\n",
    "counts = result.get_counts()\n",
    "print(counts)"
   ]
  },
  {
   "cell_type": "code",
   "execution_count": 13,
   "id": "6fd6646c",
   "metadata": {},
   "outputs": [
    {
     "data": {
      "image/png": "[encoded data removed]",
      "text/plain": [
       "<Figure size 700x500 with 1 Axes>"
      ]
     },
     "execution_count": 13,
     "metadata": {},
     "output_type": "execute_result"
    }
   ],
   "source": [
    "plot_histogram(counts)"
   ]
  },
  {
   "cell_type": "code",
   "execution_count": null,
   "id": "bc8a4158",
   "metadata": {},
   "outputs": [],
   "source": []
  },
  {
   "cell_type": "code",
   "execution_count": null,
   "id": "3bc80f00",
   "metadata": {},
   "outputs": [],
   "source": []
  }
 ],
 "metadata": {
  "kernelspec": {
   "display_name": "Python 3",
   "language": "python",
   "name": "python3"
  },
  "language_info": {
   "codemirror_mode": {
    "name": "ipython",
    "version": 3
   },
   "file_extension": ".py",
   "mimetype": "text/x-python",
   "name": "python",
   "nbconvert_exporter": "python",
   "pygments_lexer": "ipython3",
   "version": "3.9.11"
  },
  "vscode": {
   "interpreter": {
    "hash": "397704579725e15f5c7cb49fe5f0341eb7531c82d19f2c29d197e8b64ab5776b"
   }
  }
 },
 "nbformat": 4,
 "nbformat_minor": 5
}
