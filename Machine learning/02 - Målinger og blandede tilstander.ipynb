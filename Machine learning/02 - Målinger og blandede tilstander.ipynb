{
 "cells": [
  {
   "cell_type": "markdown",
   "id": "f291f641",
   "metadata": {},
   "source": [
    "# Bra-ket notasjon"
   ]
  },
  {
   "cell_type": "code",
   "execution_count": 28,
   "id": "8d1f004c",
   "metadata": {},
   "outputs": [
    {
     "name": "stdout",
     "output_type": "stream",
     "text": [
      "Ket: [1]\n",
      "     [0]\n",
      "- zero_ket.T.conj()\n",
      "Bra: [1][0]\n"
     ]
    }
   ],
   "source": [
    "import numpy as np\n",
    "# bra er konjugat-transponering av en ket og omvendt\n",
    "zero_ket = np.array([[1],[0]])\n",
    "one_ket = np.array([[0],[1]])\n",
    "print(f'Ket: {zero_ket[0]}\\n     {zero_ket[1]}')\n",
    "print('- zero_ket.T.conj()')\n",
    "print(f'Bra: {zero_ket[0]}{zero_ket[1]}')"
   ]
  },
  {
   "cell_type": "code",
   "execution_count": 20,
   "id": "9485cb08",
   "metadata": {},
   "outputs": [
    {
     "name": "stdout",
     "output_type": "stream",
     "text": [
      "[[1]]\n",
      "[[0]]\n"
     ]
    }
   ],
   "source": [
    "# Hvert eneste kvantetilstand ganget med seg selv er en\n",
    "print(zero_ket.T.conj() @ zero_ket)\n",
    "# Vektorer 90 grader på hverandre er alltid 0\n",
    "print(zero_ket.T.conj() @ one_ket)\n",
    "# Selv om det ser ut som om one_ket og zero_ket ser ut som de er på samme akse på bloch_sphere, er de ikke det."
   ]
  },
  {
   "cell_type": "code",
   "execution_count": 27,
   "id": "ce459e13",
   "metadata": {},
   "outputs": [
    {
     "data": {
      "text/plain": [
       "array([[1, 0],\n",
       "       [0, 0]])"
      ]
     },
     "execution_count": 27,
     "metadata": {},
     "output_type": "execute_result"
    }
   ],
   "source": [
    "zero_ket @ zero_ket.T.conj()"
   ]
  },
  {
   "cell_type": "code",
   "execution_count": 30,
   "id": "5a9e03a8",
   "metadata": {},
   "outputs": [
    {
     "data": {
      "text/plain": [
       "'bra @ ket -> skalar\\n    bra = ket -> 1\\n    bra normal på ket -> 0\\nket @ bra -> matrise'"
      ]
     },
     "execution_count": 30,
     "metadata": {},
     "output_type": "execute_result"
    }
   ],
   "source": [
    "'''bra @ ket -> skalar\n",
    "    bra = ket -> 1\n",
    "    bra normal på ket -> 0\n",
    "ket @ bra -> matrise\n",
    "matrise @ ket = skalar @ ket'''"
   ]
  },
  {
   "cell_type": "markdown",
   "id": "c05144a3",
   "metadata": {},
   "source": [
    "# Målinger"
   ]
  },
  {
   "cell_type": "code",
   "execution_count": 31,
   "id": "b16bf9c5",
   "metadata": {},
   "outputs": [
    {
     "data": {
      "text/plain": [
       "array([[0.5]])"
      ]
     },
     "execution_count": 31,
     "metadata": {},
     "output_type": "execute_result"
    }
   ],
   "source": [
    "w = np.array([[1], [0]])/np.sqrt(2)\n",
    "n_0 = zero_ket @ zero_ket.T.conj()\n",
    "w.T.conj() @ n_0 @ w"
   ]
  },
  {
   "cell_type": "code",
   "execution_count": 33,
   "id": "2e4fe6ba",
   "metadata": {},
   "outputs": [
    {
     "data": {
      "image/png": "[encoded data removed]",
      "text/plain": [
       "<Figure size 504x360 with 1 Axes>"
      ]
     },
     "execution_count": 33,
     "metadata": {},
     "output_type": "execute_result"
    }
   ],
   "source": [
    "from qiskit import QuantumCircuit\n",
    "from qiskit import execute, Aer\n",
    "from qiskit.tools.visualization import plot_histogram\n",
    "\n",
    "backend = Aer.get_backend('qasm_simulator')\n",
    "circuit = QuantumCircuit(1,1)\n",
    "circuit.h(0)\n",
    "circuit.measure(0,0)\n",
    "job = execute(circuit, backend, shots=100)\n",
    "plot_histogram(job.result().get_counts(circuit))"
   ]
  },
  {
   "cell_type": "code",
   "execution_count": 42,
   "id": "92f28a14",
   "metadata": {},
   "outputs": [
    {
     "data": {
      "text/plain": [
       "array([[1.],\n",
       "       [0.]])"
      ]
     },
     "execution_count": 42,
     "metadata": {},
     "output_type": "execute_result"
    }
   ],
   "source": [
    "w = np.array([[np.sqrt(2)/2], [np.sqrt(2)/2]])\n",
    "n_0 = zero_ket @ zero_ket.T.conj()\n",
    "probability_0 = w.T.conj() @ n_0 @ w\n",
    "n_0 @ w/np.sqrt(probability_0)"
   ]
  },
  {
   "cell_type": "code",
   "execution_count": 55,
   "id": "a2924d3c",
   "metadata": {},
   "outputs": [
    {
     "data": {
      "text/plain": [
       "{'00': 513, '11': 487}"
      ]
     },
     "execution_count": 55,
     "metadata": {},
     "output_type": "execute_result"
    }
   ],
   "source": [
    "backend = Aer.get_backend('qasm_simulator')\n",
    "circuit = QuantumCircuit(1,2)\n",
    "circuit.h(0)\n",
    "circuit.measure(0,0)\n",
    "circuit.measure(0,1)\n",
    "job = execute(circuit, backend, shots=1000)\n",
    "job.result().get_counts(circuit)"
   ]
  },
  {
   "cell_type": "code",
   "execution_count": 68,
   "id": "4c3815b9",
   "metadata": {},
   "outputs": [
    {
     "data": {
      "image/png": "[encoded data removed]",
      "text/plain": [
       "<Figure size 504x360 with 1 Axes>"
      ]
     },
     "execution_count": 68,
     "metadata": {},
     "output_type": "execute_result"
    }
   ],
   "source": [
    "circuit = QuantumCircuit(2, 4)\n",
    "circuit.h(0)\n",
    "circuit.cx(0,1)\n",
    "circuit.measure([0,0],[0,1])\n",
    "circuit.measure([1,1],[2,3])\n",
    "job = execute(circuit, backend, shots=1000)\n",
    "plot_histogram(job.result().get_counts(circuit))"
   ]
  },
  {
   "cell_type": "markdown",
   "id": "b26dfd1f",
   "metadata": {},
   "source": [
    "# Blandede tilstander"
   ]
  },
  {
   "cell_type": "code",
   "execution_count": 79,
   "id": "5aed27a1",
   "metadata": {},
   "outputs": [
    {
     "data": {
      "text/plain": [
       "0.4999999999999999"
      ]
     },
     "execution_count": 79,
     "metadata": {},
     "output_type": "execute_result"
    }
   ],
   "source": [
    "w = np.array([[1], [1]])/np.sqrt(2)\n",
    "p = w @ w.T.conj()\n",
    "n_0 = zero_ket @ zero_ket.T.conj()\n",
    "np.trace(n_0 @ p)"
   ]
  },
  {
   "cell_type": "code",
   "execution_count": 81,
   "id": "a17ebe40",
   "metadata": {},
   "outputs": [
    {
     "data": {
      "text/plain": [
       "array([[1., 0.],\n",
       "       [0., 0.]])"
      ]
     },
     "execution_count": 81,
     "metadata": {},
     "output_type": "execute_result"
    }
   ],
   "source": [
    "probability_0 = np.trace(n_0 @ p)\n",
    "n_0 @ p @ n_0/probability_0"
   ]
  },
  {
   "cell_type": "code",
   "execution_count": 82,
   "id": "d654427c",
   "metadata": {},
   "outputs": [
    {
     "name": "stdout",
     "output_type": "stream",
     "text": [
      "Density matrix of the equal superposition\n",
      "[[0.5 0.5]\n",
      " [0.5 0.5]]\n",
      "Density matrix of the equally mixed state of |0><0| and |1><1|\n",
      "[[0.5 0. ]\n",
      " [0.  0.5]]\n"
     ]
    }
   ],
   "source": [
    "zero_ket = np.array([[1], [0]])\n",
    "one_ket = np.array([[0], [1]])\n",
    "w = (zero_ket + one_ket)/np.sqrt(2)\n",
    "print(\"Density matrix of the equal superposition\")\n",
    "print(w @ w.T.conj())\n",
    "print(\"Density matrix of the equally mixed state of |0><0| and |1><1|\")\n",
    "print((zero_ket @ zero_ket.T.conj()+one_ket @ one_ket.T.conj())/2)"
   ]
  },
  {
   "cell_type": "code",
   "execution_count": null,
   "id": "5cc3b2e9",
   "metadata": {},
   "outputs": [],
   "source": []
  }
 ],
 "metadata": {
  "kernelspec": {
   "display_name": "Python 3",
   "language": "python",
   "name": "python3"
  },
  "language_info": {
   "codemirror_mode": {
    "name": "ipython",
    "version": 3
   },
   "file_extension": ".py",
   "mimetype": "text/x-python",
   "name": "python",
   "nbconvert_exporter": "python",
   "pygments_lexer": "ipython3",
   "version": "3.8.8"
  }
 },
 "nbformat": 4,
 "nbformat_minor": 5
}
