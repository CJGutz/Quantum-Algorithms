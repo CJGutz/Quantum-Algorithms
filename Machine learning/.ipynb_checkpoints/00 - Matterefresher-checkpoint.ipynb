{
 "cells": [
  {
   "cell_type": "code",
   "execution_count": 4,
   "id": "7b04fdeb",
   "metadata": {},
   "outputs": [],
   "source": [
    "import matplotlib.pyplot as plt\n",
    "import numpy as np\n",
    "%matplotlib inline\n",
    "np.set_printoptions(precision=3, suppress=True)\n",
    "pi = np.pi"
   ]
  },
  {
   "cell_type": "markdown",
   "id": "80a6acfa",
   "metadata": {},
   "source": [
    "# Komplekse tall og display av de"
   ]
  },
  {
   "cell_type": "code",
   "execution_count": 56,
   "id": "0806b89b",
   "metadata": {
    "scrolled": true
   },
   "outputs": [
    {
     "name": "stdout",
     "output_type": "stream",
     "text": [
      "2.4\n",
      "5.1\n"
     ]
    }
   ],
   "source": [
    "# et komplekst tall har en '.real' og en '.imag'\n",
    "x = 2.4 + 5.1j\n",
    "print(x.real)\n",
    "print(x.imag)"
   ]
  },
  {
   "cell_type": "code",
   "execution_count": 52,
   "id": "64854b30",
   "metadata": {},
   "outputs": [
    {
     "name": "stdout",
     "output_type": "stream",
     "text": [
      "Tallet har absoluttverdien 5.63648826841678\n",
      "Vinkelen med x-aksen er 1.1309537439791604 radianer\n"
     ]
    },
    {
     "data": {
      "image/png": "[encoded data removed]",
      "text/plain": [
       "<Figure size 432x288 with 1 Axes>"
      ]
     },
     "metadata": {
      "needs_background": "light"
     },
     "output_type": "display_data"
    }
   ],
   "source": [
    "def plot_complex(a):\n",
    "    for x in range(len(a)):\n",
    "        plt.plot([0,a[x].real], [0,a[x].imag], 'r-o') #tegner grafen for antall komplekse tall i listen\n",
    "        print(f'Tallet har absoluttverdien {abs(a[x])}')\n",
    "        print(f'Vinkelen med x-aksen er {np.arctan2(a[x].imag, a[x].real)} radianer')\n",
    "    plt.axhline(y=0, color='k') # grafen får x-akse ved y =0\n",
    "    plt.axvline(x=0, color='k') # og en y-akse ved x = 0\n",
    "    plt.ylabel('Imaginary') # aksene får navn\n",
    "    plt.xlabel('Real')\n",
    "    limit = np.max(np.ceil(np.absolute(a))) # disse tre linjene plasserer aksene i midten\n",
    "    plt.xlim((-limit,limit))\n",
    "    plt.ylim((-limit,limit))    \n",
    "    plt.show() # aner ikke hva denne gjør\n",
    "\n",
    "plot_complex([x]) # oppkaller grafen"
   ]
  },
  {
   "cell_type": "markdown",
   "id": "7fad750b",
   "metadata": {},
   "source": [
    "# Vektorer og matriser"
   ]
  },
  {
   "cell_type": "code",
   "execution_count": 68,
   "id": "c0d79a60",
   "metadata": {},
   "outputs": [],
   "source": [
    "a = np.array([[6.2+1.2j],[3.4+6.3j]],dtype=object)\n",
    "b = np.array([[9.3+1.5j],[7.2+1.5j]],dtype=object)"
   ]
  },
  {
   "cell_type": "code",
   "execution_count": 105,
   "id": "422d36bf",
   "metadata": {},
   "outputs": [
    {
     "data": {
      "text/plain": [
       "array([[(93.39+42.12j)]], dtype=object)"
      ]
     },
     "execution_count": 105,
     "metadata": {},
     "output_type": "execute_result"
    }
   ],
   "source": [
    "b.T.conj() @ a # .T betyr transpose (rad blir kolonne og motsatt) og conj() er conjugate (inverterer det imaginære)\n",
    "# @ er dot-prduktet mellom vektorene\n",
    "# Matriser fungerer likt som vektorer"
   ]
  }
 ],
 "metadata": {
  "kernelspec": {
   "display_name": "Python 3",
   "language": "python",
   "name": "python3"
  },
  "language_info": {
   "codemirror_mode": {
    "name": "ipython",
    "version": 3
   },
   "file_extension": ".py",
   "mimetype": "text/x-python",
   "name": "python",
   "nbconvert_exporter": "python",
   "pygments_lexer": "ipython3",
   "version": "3.8.8"
  }
 },
 "nbformat": 4,
 "nbformat_minor": 5
}
