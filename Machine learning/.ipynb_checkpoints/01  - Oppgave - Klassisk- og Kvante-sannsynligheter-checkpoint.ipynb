{
 "cells": [
  {
   "cell_type": "code",
   "execution_count": 13,
   "id": "89ad9073",
   "metadata": {},
   "outputs": [],
   "source": [
    "import matplotlib\n",
    "import networkx\n",
    "import numpy as np\n",
    "import sklearn\n",
    "import scipy\n",
    "import qutip\n",
    "\n",
    "import dwave_networkx\n",
    "import dimod\n",
    "import minorminer\n",
    "import qiskit\n",
    "import qiskit.aqua\n",
    "\n",
    "%matplotlib inline"
   ]
  },
  {
   "cell_type": "markdown",
   "id": "7134b0dc",
   "metadata": {},
   "source": [
    "# Oppgave 1"
   ]
  },
  {
   "cell_type": "code",
   "execution_count": 20,
   "id": "91d31e9f",
   "metadata": {},
   "outputs": [],
   "source": [
    "n_samples = 1000\n",
    "p_1 = 0.3\n",
    "x_data = np.random.binomial(1,p,n_samples)"
   ]
  },
  {
   "cell_type": "code",
   "execution_count": 21,
   "id": "cfa3df07",
   "metadata": {},
   "outputs": [],
   "source": [
    "assert isinstance(x_data, np.ndarray)\n",
    "assert abs(p_1-x_data.sum()/n_samples) < 0.05"
   ]
  },
  {
   "cell_type": "markdown",
   "id": "777ae1a6",
   "metadata": {},
   "source": [
    "# Oppgave 2"
   ]
  },
  {
   "cell_type": "code",
   "execution_count": 34,
   "id": "10bba7ec",
   "metadata": {},
   "outputs": [],
   "source": [
    "def is_stochastic_vector(p):\n",
    "    if p[0] < 0 or p[1] < 0:\n",
    "        return False\n",
    "    if np.linalg.norm(p, ord = 1) == 1:\n",
    "        return True\n",
    "    else:\n",
    "        return False"
   ]
  },
  {
   "cell_type": "code",
   "execution_count": 35,
   "id": "5df1463b",
   "metadata": {},
   "outputs": [],
   "source": [
    "assert not is_stochastic_vector(np.array([0.2, 0.3]))\n",
    "assert not is_stochastic_vector(np.array([-0.2, 0.7]))\n",
    "assert is_stochastic_vector(np.array([0.2, 0.8]))"
   ]
  },
  {
   "cell_type": "markdown",
   "id": "01872a65",
   "metadata": {},
   "source": [
    "# Oppgave 3"
   ]
  },
  {
   "cell_type": "code",
   "execution_count": 46,
   "id": "393334c9",
   "metadata": {},
   "outputs": [],
   "source": [
    "def project_to_first_basis_vector(p):\n",
    "    M = np.array([[1,0],[0,0]])\n",
    "    return p @ M"
   ]
  },
  {
   "cell_type": "code",
   "execution_count": 56,
   "id": "4d09a3aa",
   "metadata": {},
   "outputs": [],
   "source": [
    "assert np.alltrue(project_to_first_basis_vector(np.array([0.2, 0.3])) == np.array([0.2, 0.]))\n",
    "assert np.alltrue(project_to_first_basis_vector(np.array([1., 0.])) == np.array([1., 0.]))"
   ]
  },
  {
   "cell_type": "markdown",
   "id": "3c47a6c7",
   "metadata": {},
   "source": [
    "# Oppgave 4"
   ]
  },
  {
   "cell_type": "code",
   "execution_count": 128,
   "id": "930aafd1",
   "metadata": {},
   "outputs": [],
   "source": [
    "def apply_stochastic_matrix(p, M):\n",
    "    \"\"\"Apply the matrix M to the vector p, but only if\n",
    "    p is a stochastic vector and M is a left stochastic\n",
    "    matrix. Otherwise raise a ValueError.\n",
    "    \"\"\"\n",
    "    if not is_stochastic_vector(p):\n",
    "        return False\n",
    "    for i in range(len(M)):\n",
    "        if not M[0][i] + M[1][i] == 1:\n",
    "            return False\n",
    "    return M @ p\n",
    "        "
   ]
  },
  {
   "cell_type": "code",
   "execution_count": 129,
   "id": "74f4ce58",
   "metadata": {},
   "outputs": [
    {
     "ename": "AssertionError",
     "evalue": "did not raise",
     "output_type": "error",
     "traceback": [
      "\u001b[1;31m---------------------------------------------------------------------------\u001b[0m",
      "\u001b[1;31mAssertionError\u001b[0m                            Traceback (most recent call last)",
      "\u001b[1;32massignment_helper.py\u001b[0m in \u001b[0;36m<module>\u001b[1;34m\u001b[0m\n\u001b[0;32m      8\u001b[0m     \u001b[1;32mpass\u001b[0m\u001b[1;33m\u001b[0m\u001b[1;33m\u001b[0m\u001b[0m\n\u001b[0;32m      9\u001b[0m \u001b[1;32melse\u001b[0m\u001b[1;33m:\u001b[0m\u001b[1;33m\u001b[0m\u001b[1;33m\u001b[0m\u001b[0m\n\u001b[1;32m---> 10\u001b[1;33m     \u001b[1;32mraise\u001b[0m \u001b[0mAssertionError\u001b[0m\u001b[1;33m(\u001b[0m\u001b[1;34m\"did not raise\"\u001b[0m\u001b[1;33m)\u001b[0m\u001b[1;33m\u001b[0m\u001b[1;33m\u001b[0m\u001b[0m\n\u001b[0m",
      "\u001b[1;31mAssertionError\u001b[0m: did not raise"
     ]
    }
   ],
   "source": [
    "p = np.array([[.5], [.5]])\n",
    "M = np.array([[0.7, 0.6], [0.3, 0.4]])\n",
    "assert abs(np.linalg.norm(apply_stochastic_matrix(p, M), ord=1)-1) < 0.01\n",
    "M = np.array([[0.7, 0.6], [0.3, 0.5]])\n",
    "try:\n",
    "    apply_stochastic_matrix(p, M)\n",
    "except ValueError:\n",
    "    pass\n",
    "else:\n",
    "    raise AssertionError(\"did not raise\")"
   ]
  },
  {
   "cell_type": "code",
   "execution_count": 130,
   "id": "7d3f6210",
   "metadata": {},
   "outputs": [
    {
     "data": {
      "text/plain": [
       "array([[0.65],\n",
       "       [0.35]])"
      ]
     },
     "execution_count": 130,
     "metadata": {},
     "output_type": "execute_result"
    }
   ],
   "source": [
    "p = np.array([[.5], [.5]])\n",
    "M = np.array([[0.7, 0.6], [0.3, 0.4]])\n",
    "apply_stochastic_matrix(p,M)"
   ]
  },
  {
   "cell_type": "code",
   "execution_count": null,
   "id": "e6ee06a5",
   "metadata": {},
   "outputs": [],
   "source": []
  }
 ],
 "metadata": {
  "kernelspec": {
   "display_name": "Python 3",
   "language": "python",
   "name": "python3"
  },
  "language_info": {
   "codemirror_mode": {
    "name": "ipython",
    "version": 3
   },
   "file_extension": ".py",
   "mimetype": "text/x-python",
   "name": "python",
   "nbconvert_exporter": "python",
   "pygments_lexer": "ipython3",
   "version": "3.8.8"
  }
 },
 "nbformat": 4,
 "nbformat_minor": 5
}
