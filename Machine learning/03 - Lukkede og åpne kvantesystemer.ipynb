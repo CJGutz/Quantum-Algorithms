{
 "cells": [
  {
   "cell_type": "markdown",
   "id": "eb823912",
   "metadata": {},
   "source": [
    "# Lukket system"
   ]
  },
  {
   "cell_type": "code",
   "execution_count": 23,
   "id": "33578bf3",
   "metadata": {},
   "outputs": [
    {
     "name": "stdout",
     "output_type": "stream",
     "text": [
      "XX^dagger\n",
      "[[1 0]\n",
      " [0 1]]\n",
      "X^daggerX\n",
      "[[1 0]\n",
      " [0 1]]\n"
     ]
    }
   ],
   "source": [
    "import numpy as np\n",
    "X = np.array([[0, 1], [1, 0]])\n",
    "print(\"XX^dagger\")\n",
    "print(X @ X.conj().T)\n",
    "print(\"X^daggerX\")\n",
    "print(X.T.conj() @ X)"
   ]
  },
  {
   "cell_type": "code",
   "execution_count": null,
   "id": "735a912f",
   "metadata": {},
   "outputs": [],
   "source": [
    "# Dotproduktet av X og X^dagger blir en identitetsmatrise\n",
    "# X^dagger er inversen av X"
   ]
  },
  {
   "cell_type": "code",
   "execution_count": 18,
   "id": "ccf740d5",
   "metadata": {},
   "outputs": [
    {
     "name": "stdout",
     "output_type": "stream",
     "text": [
      "The norm of the state |0> before applying X\n",
      "1.0\n",
      "The norm of the state after applying X\n",
      "1.0\n"
     ]
    }
   ],
   "source": [
    "print(\"The norm of the state |0> before applying X\")\n",
    "zero_ket = np.array([[1], [0]])\n",
    "print(np.linalg.norm(zero_ket))\n",
    "print(\"The norm of the state after applying X\")\n",
    "print(np.linalg.norm(X @ zero_ket))"
   ]
  },
  {
   "cell_type": "code",
   "execution_count": 28,
   "id": "f7aa9da2",
   "metadata": {},
   "outputs": [
    {
     "name": "stdout",
     "output_type": "stream",
     "text": [
      "[1.+0.j 0.+0.j]\n",
      "[[1.+0.j 0.+0.j]\n",
      " [0.+0.j 1.+0.j]]\n"
     ]
    }
   ],
   "source": [
    "# Her ser man at to X-gater gir samme utgangspunkt. Resultatet blir null-ket og identitetsmatrisen til X\n",
    "import numpy as np\n",
    "from qiskit import QuantumCircuit, execute, Aer\n",
    "from qiskit.tools.visualization import circuit_drawer\n",
    "\n",
    "backend_statevector = Aer.get_backend('statevector_simulator')\n",
    "backend_unitary = Aer.get_backend('unitary_simulator')\n",
    "circuit = QuantumCircuit(1,1)\n",
    "circuit.x(0)\n",
    "circuit.x(0)\n",
    "job = execute(circuit, backend_statevector)\n",
    "print(job.result().get_statevector(circuit))\n",
    "job = execute(circuit, backend_unitary)\n",
    "print(job.result().get_unitary(circuit))"
   ]
  },
  {
   "cell_type": "markdown",
   "id": "a2d12823",
   "metadata": {},
   "source": [
    "# Lukkede systemer"
   ]
  },
  {
   "cell_type": "code",
   "execution_count": 29,
   "id": "17a182e1",
   "metadata": {},
   "outputs": [
    {
     "name": "stdout",
     "output_type": "stream",
     "text": [
      "Maximum visibility is a pure state:\n",
      "[[0.5 0.  0.  0.5]\n",
      " [0.  0.  0.  0. ]\n",
      " [0.  0.  0.  0. ]\n",
      " [0.5 0.  0.  0.5]]\n",
      "The state is still entangled with visibility 0.8:\n",
      "[[0.45 0.   0.   0.4 ]\n",
      " [0.   0.05 0.   0.  ]\n",
      " [0.   0.   0.05 0.  ]\n",
      " [0.4  0.   0.   0.45]]\n",
      "Entanglement is lost by 0.6:\n",
      "[[0.4 0.  0.  0.3]\n",
      " [0.  0.1 0.  0. ]\n",
      " [0.  0.  0.1 0. ]\n",
      " [0.3 0.  0.  0.4]]\n",
      "Barely any coherence remains by 0.2:\n",
      "[[0.3 0.  0.  0.1]\n",
      " [0.  0.2 0.  0. ]\n",
      " [0.  0.  0.2 0. ]\n",
      " [0.1 0.  0.  0.3]]\n"
     ]
    }
   ],
   "source": [
    "def mixed_state(pure_state, visibility):\n",
    "    density_matrix = pure_state @ pure_state.T.conj()\n",
    "    maximally_mixed_state = np.eye(4)/2**2\n",
    "    return visibility*density_matrix + (1-visibility)*maximally_mixed_state\n",
    "\n",
    "y = np.array([[1],[0],[0],[1]])/np.sqrt(2)\n",
    "print(\"Maximum visibility is a pure state:\")\n",
    "print(mixed_state(y, 1.0))\n",
    "print(\"The state is still entangled with visibility 0.8:\")\n",
    "print(mixed_state(y, 0.8))\n",
    "print(\"Entanglement is lost by 0.6:\")\n",
    "print(mixed_state(y, 0.6))\n",
    "print(\"Barely any coherence remains by 0.2:\")\n",
    "print(mixed_state(y, 0.2))"
   ]
  },
  {
   "cell_type": "code",
   "execution_count": 61,
   "id": "cbe1de88",
   "metadata": {},
   "outputs": [
    {
     "data": {
      "text/plain": [
       "<matplotlib.legend.Legend at 0x27b992bb550>"
      ]
     },
     "execution_count": 61,
     "metadata": {},
     "output_type": "execute_result"
    },
    {
     "data": {
      "image/png": "[encoded data removed]",
      "text/plain": [
       "<Figure size 432x288 with 1 Axes>"
      ]
     },
     "metadata": {},
     "output_type": "display_data"
    }
   ],
   "source": [
    "import matplotlib.pyplot as plt\n",
    "\n",
    "temperatures = [.5, 5, 2000]\n",
    "energies = np.linspace(0, 20, 100)\n",
    "fig, ax = plt.subplots()\n",
    "for i, T in enumerate(temperatures):\n",
    "    probabilities = np.exp(-energies/T)\n",
    "    Z = probabilities.sum()\n",
    "    probabilities /= Z\n",
    "    ax.plot(energies, probabilities, linewidth=3, label = \"$T_\" + str(i+1)+\"$\")\n",
    "ax.set_xlim(0, 20)\n",
    "ax.set_ylim(0, 1.2*probabilities.max())\n",
    "ax.set_xticks([])\n",
    "ax.set_yticks([])\n",
    "ax.set_xlabel('Energy')\n",
    "ax.set_ylabel('Probability')\n",
    "ax.legend()"
   ]
  }
 ],
 "metadata": {
  "kernelspec": {
   "display_name": "Python 3",
   "language": "python",
   "name": "python3"
  },
  "language_info": {
   "codemirror_mode": {
    "name": "ipython",
    "version": 3
   },
   "file_extension": ".py",
   "mimetype": "text/x-python",
   "name": "python",
   "nbconvert_exporter": "python",
   "pygments_lexer": "ipython3",
   "version": "3.8.8"
  }
 },
 "nbformat": 4,
 "nbformat_minor": 5
}
