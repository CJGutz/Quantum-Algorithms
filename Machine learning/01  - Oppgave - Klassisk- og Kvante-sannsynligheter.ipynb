{
 "cells": [
  {
   "cell_type": "code",
   "execution_count": null,
   "id": "89ad9073",
   "metadata": {},
   "outputs": [
    {
     "ename": "",
     "evalue": "",
     "output_type": "error",
     "traceback": [
      "\u001b[1;31mRunning cells with '/usr/local/bin/python3.9' requires ipykernel package.\n",
      "\u001b[1;31mRun the following command to install 'ipykernel' into the Python environment. \n",
      "\u001b[1;31mCommand: '/usr/local/bin/python3.9 -m pip install ipykernel -U --user --force-reinstall'"
     ]
    }
   ],
   "source": [
    "import matplotlib\n",
    "import networkx\n",
    "import numpy as np\n",
    "import sklearn\n",
    "import scipy\n",
    "import qutip\n",
    "\n",
    "import dwave_networkx\n",
    "import dimod\n",
    "import minorminer\n",
    "import qiskit\n",
    "from qiskit import *\n",
    "import qiskit.aqua\n",
    "\n",
    "%matplotlib inline\n",
    "from assignment_helper import get_amplitudes, get_counts"
   ]
  },
  {
   "cell_type": "markdown",
   "id": "7134b0dc",
   "metadata": {},
   "source": [
    "# Oppgave 1"
   ]
  },
  {
   "cell_type": "code",
   "execution_count": 43,
   "id": "91d31e9f",
   "metadata": {},
   "outputs": [],
   "source": [
    "n_samples = 1000\n",
    "p_1 = 0.3\n",
    "x_data = np.random.binomial(1,p_1,n_samples)"
   ]
  },
  {
   "cell_type": "code",
   "execution_count": 44,
   "id": "cfa3df07",
   "metadata": {},
   "outputs": [],
   "source": [
    "assert isinstance(x_data, np.ndarray)\n",
    "assert abs(p_1-x_data.sum()/n_samples) < 0.05"
   ]
  },
  {
   "cell_type": "markdown",
   "id": "777ae1a6",
   "metadata": {},
   "source": [
    "# Oppgave 2"
   ]
  },
  {
   "cell_type": "code",
   "execution_count": 45,
   "id": "10bba7ec",
   "metadata": {},
   "outputs": [],
   "source": [
    "def is_stochastic_vector(p):\n",
    "    if p[0] < 0 or p[1] < 0:\n",
    "        return False\n",
    "    if np.linalg.norm(p, ord = 1) == 1:\n",
    "        return True\n",
    "    else:\n",
    "        return False"
   ]
  },
  {
   "cell_type": "code",
   "execution_count": 46,
   "id": "5df1463b",
   "metadata": {},
   "outputs": [],
   "source": [
    "assert not is_stochastic_vector(np.array([0.2, 0.3]))\n",
    "assert not is_stochastic_vector(np.array([-0.2, 0.7]))\n",
    "assert is_stochastic_vector(np.array([0.2, 0.8]))"
   ]
  },
  {
   "cell_type": "markdown",
   "id": "01872a65",
   "metadata": {},
   "source": [
    "# Oppgave 3"
   ]
  },
  {
   "cell_type": "code",
   "execution_count": 47,
   "id": "393334c9",
   "metadata": {},
   "outputs": [],
   "source": [
    "def project_to_first_basis_vector(p):\n",
    "    M = np.array([[1,0],[0,0]])\n",
    "    return p @ M"
   ]
  },
  {
   "cell_type": "code",
   "execution_count": 48,
   "id": "4d09a3aa",
   "metadata": {},
   "outputs": [],
   "source": [
    "assert np.alltrue(project_to_first_basis_vector(np.array([0.2, 0.3])) == np.array([0.2, 0.]))\n",
    "assert np.alltrue(project_to_first_basis_vector(np.array([1., 0.])) == np.array([1., 0.]))"
   ]
  },
  {
   "cell_type": "markdown",
   "id": "3c47a6c7",
   "metadata": {},
   "source": [
    "# Oppgave 4"
   ]
  },
  {
   "cell_type": "code",
   "execution_count": 49,
   "id": "930aafd1",
   "metadata": {},
   "outputs": [],
   "source": [
    "def apply_stochastic_matrix(p, M):\n",
    "    \"\"\"Apply the matrix M to the vector p, but only if\n",
    "    p is a stochastic vector and M is a left stochastic\n",
    "    matrix. Otherwise raise a ValueError.\n",
    "    \"\"\"\n",
    "    if not is_stochastic_vector(p):\n",
    "        raise ValueError\n",
    "    for i in range(len(M)):\n",
    "        if not M[0][i] + M[1][i] == 1:\n",
    "            raise ValueError\n",
    "    return M @ p"
   ]
  },
  {
   "cell_type": "code",
   "execution_count": 50,
   "id": "74f4ce58",
   "metadata": {},
   "outputs": [],
   "source": [
    "p = np.array([[.5], [.5]])\n",
    "M = np.array([[0.7, 0.6], [0.3, 0.4]])\n",
    "assert abs(np.linalg.norm(apply_stochastic_matrix(p, M), ord=1)-1) < 0.01\n",
    "M = np.array([[0.7, 0.6], [0.3, 0.5]])\n",
    "try:\n",
    "    apply_stochastic_matrix(p, M)\n",
    "except ValueError:\n",
    "    pass\n",
    "else:\n",
    "    raise AssertionError(\"did not raise\")"
   ]
  },
  {
   "cell_type": "markdown",
   "id": "6aaeb905",
   "metadata": {},
   "source": [
    "# Oppgave 5"
   ]
  },
  {
   "cell_type": "code",
   "execution_count": 51,
   "id": "2cd5d8d7",
   "metadata": {},
   "outputs": [],
   "source": [
    "M = np.array([[0.5,0.7],[0.5,0.3]])"
   ]
  },
  {
   "cell_type": "code",
   "execution_count": 52,
   "id": "bb70cfed",
   "metadata": {},
   "outputs": [],
   "source": [
    "assert np.allclose(M.dot(np.array([0.5, 0.5])), np.array([0.6, 0.4]))"
   ]
  },
  {
   "cell_type": "markdown",
   "id": "a13a7fec",
   "metadata": {},
   "source": [
    "# Oppgave 6"
   ]
  },
  {
   "cell_type": "code",
   "execution_count": 53,
   "id": "021bf32c",
   "metadata": {},
   "outputs": [
    {
     "name": "stdout",
     "output_type": "stream",
     "text": [
      "0.9709505944546686\n"
     ]
    }
   ],
   "source": [
    "s = np.array([0.6,0.4])\n",
    "p_0 = s[0]\n",
    "p_1 = s[1]\n",
    "H = -(p_0*np.log2(p_0) + p_1*np.log2(p_1))\n",
    "print(H)"
   ]
  },
  {
   "cell_type": "markdown",
   "id": "ea2ac353",
   "metadata": {},
   "source": [
    "# Oppgave 7"
   ]
  },
  {
   "cell_type": "code",
   "execution_count": 54,
   "id": "793316cb",
   "metadata": {},
   "outputs": [],
   "source": [
    "def is_quantum_state(psi):\n",
    "    for i in range(len(psi)):\n",
    "        if not psi[i] >= -1 and not psi[i] <= 1:\n",
    "            return False\n",
    "        if not np.around(np.linalg.norm(psi, ord = 2),2) == 1:\n",
    "            return False\n",
    "        \n",
    "    return True\n",
    "    \n",
    "        "
   ]
  },
  {
   "cell_type": "code",
   "execution_count": 55,
   "id": "ea3666e3",
   "metadata": {},
   "outputs": [],
   "source": [
    "assert is_quantum_state(np.array([1/np.sqrt(2), 1/np.sqrt(2)]))\n",
    "assert is_quantum_state(np.array([-1/np.sqrt(2), 1/np.sqrt(2)]))\n",
    "assert is_quantum_state(np.array([-1/3, 2*np.sqrt(2)/3]))\n",
    "assert is_quantum_state(np.array([-1j/3, 2*np.sqrt(2)/3]))\n",
    "assert not is_quantum_state(np.array([0.2, 0.8]))"
   ]
  },
  {
   "cell_type": "markdown",
   "id": "678b429c",
   "metadata": {},
   "source": [
    "# Oppgave 8"
   ]
  },
  {
   "cell_type": "code",
   "execution_count": 84,
   "id": "0a3e7e72",
   "metadata": {},
   "outputs": [
    {
     "data": {
      "image/png": "[encoded data removed]",
      "text/plain": [
       "<Figure size 504x360 with 1 Axes>"
      ]
     },
     "execution_count": 84,
     "metadata": {},
     "output_type": "execute_result"
    }
   ],
   "source": [
    "from qiskit import Aer, execute, QuantumCircuit\n",
    "from qiskit.tools.visualization import plot_histogram, plot_bloch_multivector\n",
    "\n",
    "circuit = QuantumCircuit(1,1)\n",
    "simulator = Aer.get_backend('qasm_simulator')\n",
    "result = execute(circuit,backend = simulator,shots = 1024).result()\n",
    "plot_histogram(result.get_counts())\n"
   ]
  },
  {
   "cell_type": "code",
   "execution_count": 86,
   "id": "02311b86",
   "metadata": {},
   "outputs": [],
   "source": [
    "amplitudes = get_amplitudes(circuit)\n",
    "assert abs(amplitudes[0]-1.0) < 0.01"
   ]
  },
  {
   "cell_type": "markdown",
   "id": "9e971f97",
   "metadata": {},
   "source": [
    "# Oppgave 9"
   ]
  },
  {
   "cell_type": "code",
   "execution_count": 81,
   "id": "8fbef030",
   "metadata": {},
   "outputs": [
    {
     "data": {
      "text/plain": [
       "<qiskit.circuit.instructionset.InstructionSet at 0x188aacb2130>"
      ]
     },
     "execution_count": 81,
     "metadata": {},
     "output_type": "execute_result"
    }
   ],
   "source": [
    "circuit.h(0)\n",
    "circuit.measure(0,0)"
   ]
  },
  {
   "cell_type": "code",
   "execution_count": 82,
   "id": "c8369096",
   "metadata": {},
   "outputs": [],
   "source": [
    "counts = get_counts(circuit)\n",
    "assert abs(counts['0']/100-.5) < 0.2"
   ]
  },
  {
   "cell_type": "markdown",
   "id": "5954acd8",
   "metadata": {},
   "source": [
    "# Oppgave 10"
   ]
  },
  {
   "cell_type": "code",
   "execution_count": 73,
   "id": "d1ce14cb",
   "metadata": {},
   "outputs": [
    {
     "data": {
      "text/plain": [
       "<qiskit.circuit.instructionset.InstructionSet at 0x188aacb2f40>"
      ]
     },
     "execution_count": 73,
     "metadata": {},
     "output_type": "execute_result"
    }
   ],
   "source": [
    "circuit = QuantumCircuit(1,1)\n",
    "circuit.x(0)\n",
    "circuit.h(0)"
   ]
  },
  {
   "cell_type": "code",
   "execution_count": 74,
   "id": "3ed72156",
   "metadata": {},
   "outputs": [],
   "source": [
    "amplitudes = get_amplitudes(circuit)\n",
    "assert abs(amplitudes[1]+np.sqrt(2)/2) < 0.01"
   ]
  },
  {
   "cell_type": "markdown",
   "id": "58df365f",
   "metadata": {},
   "source": [
    "# Oppgave 11"
   ]
  },
  {
   "cell_type": "code",
   "execution_count": 62,
   "id": "e2294b53",
   "metadata": {},
   "outputs": [],
   "source": [
    "def create_canonical_basis():\n",
    "    zero_ket = np.array([1,0])\n",
    "    one_ket = np.array([0,1])\n",
    "    list = [np.kron(zero_ket,zero_ket),np.kron(zero_ket,one_ket),np.kron(one_ket,zero_ket),np.kron(one_ket,one_ket)]\n",
    "    return list"
   ]
  },
  {
   "cell_type": "code",
   "execution_count": 63,
   "id": "36258812",
   "metadata": {},
   "outputs": [],
   "source": [
    "basis = create_canonical_basis()\n",
    "assert len(basis) == 4\n",
    "if basis[0].shape != (4, ):\n",
    "    basis = [basis_vector.reshape((4, )) for basis_vector in basis]"
   ]
  },
  {
   "cell_type": "markdown",
   "id": "be4d5a68",
   "metadata": {},
   "source": [
    "# Oppgave 12"
   ]
  },
  {
   "cell_type": "code",
   "execution_count": 68,
   "id": "da30fdf4",
   "metadata": {},
   "outputs": [
    {
     "data": {
      "text/plain": [
       "<qiskit.circuit.instructionset.InstructionSet at 0x188aaca1910>"
      ]
     },
     "execution_count": 68,
     "metadata": {},
     "output_type": "execute_result"
    }
   ],
   "source": [
    "statevector = Aer.get_backend('statevector_simulator')\n",
    "\n",
    "circuit = QuantumCircuit(2,2)\n",
    "circuit.x(0)\n",
    "circuit.h(0)\n",
    "circuit.cx(0,1)\n",
    "\n",
    "#plot_bloch_multivector(execute(circuit,backend = statevector).result().get_statevector())"
   ]
  },
  {
   "cell_type": "code",
   "execution_count": 70,
   "id": "257b3189",
   "metadata": {},
   "outputs": [],
   "source": [
    "amplitudes = get_amplitudes(circuit)\n",
    "assert np.allclose(np.array([np.sqrt(2)/2, 0, 0, -np.sqrt(2)/2]), amplitudes)"
   ]
  },
  {
   "cell_type": "code",
   "execution_count": null,
   "id": "7d62768c",
   "metadata": {},
   "outputs": [],
   "source": []
  }
 ],
 "metadata": {
  "kernelspec": {
   "display_name": "Python 3",
   "language": "python",
   "name": "python3"
  },
  "language_info": {
   "codemirror_mode": {
    "name": "ipython",
    "version": 3
   },
   "file_extension": ".py",
   "mimetype": "text/x-python",
   "name": "python",
   "nbconvert_exporter": "python",
   "pygments_lexer": "ipython3",
   "version": "3.9.11 (main, Apr 12 2022, 19:26:10) \n[GCC 9.4.0]"
  },
  "vscode": {
   "interpreter": {
    "hash": "397704579725e15f5c7cb49fe5f0341eb7531c82d19f2c29d197e8b64ab5776b"
   }
  }
 },
 "nbformat": 4,
 "nbformat_minor": 5
}
