{
 "cells": [
  {
   "cell_type": "code",
   "execution_count": 3,
   "id": "b250fb2a",
   "metadata": {},
   "outputs": [],
   "source": [
    "# nye formler\n",
    "# np.random.binomial(maks, sannsynlighet, antall tall)\n",
    "# np.linspace(starttall, sluttall, antall tall i mellom)\n",
    "# plt.plot(liste av tall, liste av like mange tall)\n",
    "# np.linalg.norm(liste, orden)\n"
   ]
  },
  {
   "cell_type": "code",
   "execution_count": 4,
   "id": "b13e2c36",
   "metadata": {
    "scrolled": true
   },
   "outputs": [
    {
     "name": "stdout",
     "output_type": "stream",
     "text": [
      "[0 0 0 0 0 1 0 0 0 0 0 0 0 0 0 1 0 0 0 0 0 0 1 0 0 0 1 0 0 0 0 0 0 0 0 1 0\n",
      " 0 0 0 0 0 0 0 1 0 0 0 0 1 0 0 0 0 0 0 0 1 0 0 0 0 0 0 0 0 1 0 1 1 0 0 0 0\n",
      " 0 0 0 0 0 0 1 0 0 1 0 0 0 0 0 0 0 1 0 1 0 1 0 1 0 0]\n"
     ]
    }
   ],
   "source": [
    "import numpy as np\n",
    "from qiskit.visualization import plot_histogram\n",
    "samples = 100\n",
    "p_1 = 0.2\n",
    "data = np.random.binomial(1, p_1,(samples,))\n",
    "print(data)"
   ]
  },
  {
   "cell_type": "code",
   "execution_count": 5,
   "id": "f48563dd",
   "metadata": {},
   "outputs": [
    {
     "name": "stdout",
     "output_type": "stream",
     "text": [
      "1.0000000000000004\n"
     ]
    }
   ],
   "source": [
    "frequency_of_zeros, frequency_of_ones = 0, 0\n",
    "for x in data:\n",
    "    if x:\n",
    "        frequency_of_ones += 1/samples\n",
    "    else:\n",
    "        frequency_of_zeros += 1/samples\n",
    "print(frequency_of_ones+frequency_of_zeros)"
   ]
  },
  {
   "cell_type": "code",
   "execution_count": 6,
   "id": "bb808b80",
   "metadata": {},
   "outputs": [
    {
     "data": {
      "text/plain": [
       "[<matplotlib.lines.Line2D at 0x229d226aa60>]"
      ]
     },
     "execution_count": 6,
     "metadata": {},
     "output_type": "execute_result"
    },
    {
     "data": {
      "image/png": "[encoded data removed]",
      "text/plain": [
       "<Figure size 432x288 with 1 Axes>"
      ]
     },
     "metadata": {
      "needs_background": "light"
     },
     "output_type": "display_data"
    }
   ],
   "source": [
    "import matplotlib.pyplot as plt\n",
    "%matplotlib inline\n",
    "p_0 = np.linspace(0,1,100)\n",
    "p_1 = 1-p_0\n",
    "plt.plot(p_0,p_1)"
   ]
  },
  {
   "cell_type": "code",
   "execution_count": 7,
   "id": "78a789ff",
   "metadata": {},
   "outputs": [
    {
     "data": {
      "text/plain": [
       "1.0"
      ]
     },
     "execution_count": 7,
     "metadata": {},
     "output_type": "execute_result"
    }
   ],
   "source": [
    "p = np.array([[0.8], [0.2]])\n",
    "np.linalg.norm(p, ord=1) # i ord = 1 plusser man tallene sammen. Med ord = 2 tar man kvadratroten av summen av kvadratene"
   ]
  },
  {
   "cell_type": "code",
   "execution_count": 8,
   "id": "c2080ef7",
   "metadata": {},
   "outputs": [
    {
     "data": {
      "text/plain": [
       "array([[1, 0],\n",
       "       [0, 0]])"
      ]
     },
     "execution_count": 8,
     "metadata": {},
     "output_type": "execute_result"
    }
   ],
   "source": [
    "n_0 = np.array([[1, 0], [0, 0]])\n",
    "np.linalg.norm(n_0 @ p, ord=1)\n",
    "n_0"
   ]
  },
  {
   "cell_type": "code",
   "execution_count": 9,
   "id": "dee6d961",
   "metadata": {},
   "outputs": [
    {
     "data": {
      "text/plain": [
       "0.2"
      ]
     },
     "execution_count": 9,
     "metadata": {},
     "output_type": "execute_result"
    }
   ],
   "source": [
    "n_1 = np.array([[0, 0], [0, 1]])\n",
    "np.linalg.norm(n_1 @ p, ord=1)"
   ]
  },
  {
   "cell_type": "code",
   "execution_count": 10,
   "id": "6c348d79",
   "metadata": {},
   "outputs": [
    {
     "data": {
      "text/plain": [
       "0.9999999999999999"
      ]
     },
     "execution_count": 10,
     "metadata": {},
     "output_type": "execute_result"
    }
   ],
   "source": [
    "p = np.array([[.5], [.5]])\n",
    "M = np.array([[0.7, 0.6], [0.3, 0.4]])\n",
    "np.linalg.norm(M @ p, ord=1)"
   ]
  },
  {
   "cell_type": "markdown",
   "id": "a720c2e1",
   "metadata": {},
   "source": [
    "# Entropi"
   ]
  },
  {
   "cell_type": "code",
   "execution_count": 11,
   "id": "1b647c70",
   "metadata": {},
   "outputs": [
    {
     "data": {
      "text/plain": [
       "<matplotlib.lines.Line2D at 0x229d235e280>"
      ]
     },
     "execution_count": 11,
     "metadata": {},
     "output_type": "execute_result"
    },
    {
     "data": {
      "image/png": "[encoded data removed]",
      "text/plain": [
       "<Figure size 432x288 with 1 Axes>"
      ]
     },
     "metadata": {
      "needs_background": "light"
     },
     "output_type": "display_data"
    }
   ],
   "source": [
    "ϵ = 10e-10\n",
    "p_0 = np.linspace(ϵ, 1-ϵ, 100)\n",
    "p_1 = 1-p_0\n",
    "H = -(p_0*np.log2(p_0) + p_1*np.log2(p_1))\n",
    "fig, ax = plt.subplots()\n",
    "ax.set_xlim(0, 1)\n",
    "ax.set_ylim(0, -np.log2(0.5))\n",
    "ax.set_xlabel(\"$p_0$\")\n",
    "ax.set_ylabel(\"$H$\")\n",
    "plt.plot(p_0, -(p_0*np.log2(p_0) + p_1*np.log2(p_1)))\n",
    "plt.axvline(x=0.5, color='k', linestyle='--')"
   ]
  },
  {
   "cell_type": "markdown",
   "id": "c0586b3f",
   "metadata": {},
   "source": [
    "# kvantesannsynlighet"
   ]
  },
  {
   "cell_type": "code",
   "execution_count": 12,
   "id": "852800ab",
   "metadata": {},
   "outputs": [
    {
     "data": {
      "text/plain": [
       "<qiskit.circuit.instructionset.InstructionSet at 0x229ea8c6fd0>"
      ]
     },
     "execution_count": 12,
     "metadata": {},
     "output_type": "execute_result"
    }
   ],
   "source": [
    "from qiskit import QuantumCircuit, ClassicalRegister, QuantumRegister\n",
    "from qiskit import execute\n",
    "from qiskit import Aer\n",
    "from qiskit.tools.visualization import plot_histogram, plot_bloch_multivector\n",
    "import numpy as np\n",
    "pi = np.pi\n",
    "\n",
    "simulator = Aer.get_backend('qasm_simulator')\n",
    "statevector_simulator = Aer.get_backend('statevector_simulator')\n",
    "unitary_simulator = Aer.get_backend('unitary_simulator')\n",
    "\n",
    "circuit = QuantumCircuit(1, 1)\n",
    "circuit.x(0)\n",
    "circuit.ry(pi/2,0)\n",
    "circuit.ry(pi/2,0)\n",
    "#circuit.measure(0,0)"
   ]
  },
  {
   "cell_type": "code",
   "execution_count": 13,
   "id": "4d036904",
   "metadata": {},
   "outputs": [
    {
     "name": "stdout",
     "output_type": "stream",
     "text": [
      "[[-1.+1.2246468e-16j -0.+0.0000000e+00j]\n",
      " [ 0.+0.0000000e+00j  1.+0.0000000e+00j]]\n"
     ]
    }
   ],
   "source": [
    "result = execute(circuit, backend = simulator, shots = 1024).result()\n",
    "counts = result.get_counts()\n",
    "plot_histogram(counts)\n",
    "\n",
    "result = execute(circuit, backend = unitary_simulator).result()\n",
    "print(result.get_unitary())\n",
    "\n",
    "#result = execute(circuit, backend = statevector_simulator).result()\n",
    "#statevector = result.get_statevector()\n",
    "#plot_bloch_multivector(statevector)"
   ]
  },
  {
   "cell_type": "markdown",
   "id": "5a8f9809",
   "metadata": {},
   "source": [
    "# Flere qubits"
   ]
  },
  {
   "cell_type": "code",
   "execution_count": 14,
   "id": "bcd94154",
   "metadata": {},
   "outputs": [
    {
     "data": {
      "text/plain": [
       "array([[1],\n",
       "       [0],\n",
       "       [0],\n",
       "       [0]])"
      ]
     },
     "execution_count": 14,
     "metadata": {},
     "output_type": "execute_result"
    }
   ],
   "source": [
    "q0 = np.array([[1],[0]])\n",
    "q1 = np.array([[1],[0]])\n",
    "np.kron(q0,q1)"
   ]
  },
  {
   "cell_type": "code",
   "execution_count": null,
   "id": "f6461274",
   "metadata": {},
   "outputs": [],
   "source": []
  },
  {
   "cell_type": "code",
   "execution_count": null,
   "id": "105d3ea3",
   "metadata": {},
   "outputs": [],
   "source": []
  }
 ],
 "metadata": {
  "kernelspec": {
   "display_name": "Python 3",
   "language": "python",
   "name": "python3"
  },
  "language_info": {
   "codemirror_mode": {
    "name": "ipython",
    "version": 3
   },
   "file_extension": ".py",
   "mimetype": "text/x-python",
   "name": "python",
   "nbconvert_exporter": "python",
   "pygments_lexer": "ipython3",
   "version": "3.8.8"
  }
 },
 "nbformat": 4,
 "nbformat_minor": 5
}
