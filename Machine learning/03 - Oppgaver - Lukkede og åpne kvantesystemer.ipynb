{
 "cells": [
  {
   "cell_type": "code",
   "execution_count": 159,
   "id": "9a2ee0ef",
   "metadata": {},
   "outputs": [],
   "source": [
    "import assignment_helper\n",
    "%matplotlib inline\n",
    "import numpy as np\n",
    "from qiskit import QuantumCircuit\n",
    "import qiskit"
   ]
  },
  {
   "cell_type": "markdown",
   "id": "373aa375",
   "metadata": {},
   "source": [
    "# Oppgave 1"
   ]
  },
  {
   "cell_type": "code",
   "execution_count": 160,
   "id": "fbddf6dd",
   "metadata": {},
   "outputs": [],
   "source": [
    "def is_unitary(matrix):\n",
    "    M = matrix.T.conj() @ matrix\n",
    "    N = matrix @ matrix.T.conj()\n",
    "    if np.allclose(M,N): \n",
    "        return True    "
   ]
  },
  {
   "cell_type": "code",
   "execution_count": 161,
   "id": "666c5f72",
   "metadata": {},
   "outputs": [],
   "source": [
    "X = np.array([[0, 1], [1, 0]])\n",
    "H = 1/np.sqrt(2)*np.array([[1, 1], [1, -1]])\n",
    "random_matrix = np.random.rand(2, 2)\n",
    "assert is_unitary(X)\n",
    "assert is_unitary(H)\n",
    "assert not is_unitary(random_matrix)"
   ]
  },
  {
   "cell_type": "markdown",
   "id": "36408d57",
   "metadata": {},
   "source": [
    "# Oppgave 2"
   ]
  },
  {
   "cell_type": "code",
   "execution_count": 162,
   "id": "157e6a96",
   "metadata": {},
   "outputs": [],
   "source": [
    "eigenvalues = np.linalg.eig(H)[0]"
   ]
  },
  {
   "cell_type": "code",
   "execution_count": 163,
   "id": "8a66d3b6",
   "metadata": {},
   "outputs": [],
   "source": [
    "assert np.allclose(sorted(eigenvalues), np.array([-1, 1]))"
   ]
  },
  {
   "cell_type": "markdown",
   "id": "66ca0072",
   "metadata": {},
   "source": [
    "# Oppgave 3"
   ]
  },
  {
   "cell_type": "code",
   "execution_count": 164,
   "id": "ee4d3f87",
   "metadata": {},
   "outputs": [
    {
     "data": {
      "text/plain": [
       "<qiskit.circuit.instructionset.InstructionSet at 0x17d9bfa9e20>"
      ]
     },
     "execution_count": 164,
     "metadata": {},
     "output_type": "execute_result"
    }
   ],
   "source": [
    "circuit = QuantumCircuit(1,1)\n",
    "circuit.x(0)\n",
    "circuit.h(0)"
   ]
  },
  {
   "cell_type": "code",
   "execution_count": 165,
   "id": "45dfc2a6",
   "metadata": {},
   "outputs": [],
   "source": [
    "amplitudes = get_amplitudes(circuit)\n",
    "assert np.allclose(amplitudes, np.array([1/np.sqrt(2), -1/np.sqrt(2)]))"
   ]
  },
  {
   "cell_type": "markdown",
   "id": "cd098ca1",
   "metadata": {},
   "source": [
    "# Oppgave 4"
   ]
  },
  {
   "cell_type": "code",
   "execution_count": 166,
   "id": "da8d7eb5",
   "metadata": {},
   "outputs": [
    {
     "data": {
      "text/plain": [
       "<qiskit.circuit.instructionset.InstructionSet at 0x17d99c2f460>"
      ]
     },
     "execution_count": 166,
     "metadata": {},
     "output_type": "execute_result"
    }
   ],
   "source": [
    "circuit.h(0)\n",
    "circuit.x(0)"
   ]
  },
  {
   "cell_type": "code",
   "execution_count": 171,
   "id": "d7f3a3d1",
   "metadata": {},
   "outputs": [],
   "source": [
    "amplitudes = get_amplitudes(circuit)\n",
    "program_length = sum(circuit.count_ops().values())\n",
    "assert np.allclose(amplitudes, np.array([1, 0])), \"The circuit is not successfully reversed\"\n",
    "assert program_length == 4, \"The circuit does not have the right number of gates\""
   ]
  },
  {
   "cell_type": "markdown",
   "id": "646adba1",
   "metadata": {},
   "source": [
    "# Oppgave 5"
   ]
  },
  {
   "cell_type": "code",
   "execution_count": 178,
   "id": "bb29ac28",
   "metadata": {},
   "outputs": [],
   "source": [
    "import numpy as np\n",
    "energies = np.array([-1.0, +1.0])\n",
    "T = 1\n",
    "probabilities = np.exp(-energies/T)\n",
    "Z = probabilities.sum()\n",
    "probabilities /= Z\n",
    "dm = np.diag(probabilities)"
   ]
  },
  {
   "cell_type": "code",
   "execution_count": 179,
   "id": "f3757c7e",
   "metadata": {},
   "outputs": [],
   "source": [
    "assert np.allclose(dm, np.array([[0.88079708, 0.        ],\n",
    "                                 [0.        , 0.11920292]]))"
   ]
  },
  {
   "cell_type": "code",
   "execution_count": null,
   "id": "1ab896b1",
   "metadata": {},
   "outputs": [],
   "source": []
  }
 ],
 "metadata": {
  "kernelspec": {
   "display_name": "Python 3",
   "language": "python",
   "name": "python3"
  },
  "language_info": {
   "codemirror_mode": {
    "name": "ipython",
    "version": 3
   },
   "file_extension": ".py",
   "mimetype": "text/x-python",
   "name": "python",
   "nbconvert_exporter": "python",
   "pygments_lexer": "ipython3",
   "version": "3.8.8"
  }
 },
 "nbformat": 4,
 "nbformat_minor": 5
}
