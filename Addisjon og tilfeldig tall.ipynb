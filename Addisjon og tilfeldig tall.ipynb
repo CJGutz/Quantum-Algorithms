{
 "cells": [
  {
   "cell_type": "code",
   "execution_count": 213,
   "id": "eea1e9ea",
   "metadata": {},
   "outputs": [],
   "source": [
    "from qiskit import *\n",
    "import math\n",
    "import qiskit as q\n",
    "from qiskit.tools.visualization import plot_histogram\n",
    "%matplotlib inline"
   ]
  },
  {
   "cell_type": "code",
   "execution_count": 231,
   "id": "c5ed6b27",
   "metadata": {},
   "outputs": [],
   "source": [
    "def realNumber(n):\n",
    "    sum = 0\n",
    "    for k in range(len(n)):\n",
    "        if n[k] == '1':\n",
    "            sum += pow(2,len(n)-1-k)\n",
    "    return sum"
   ]
  },
  {
   "cell_type": "code",
   "execution_count": 264,
   "id": "83c86554",
   "metadata": {},
   "outputs": [
    {
     "name": "stdout",
     "output_type": "stream",
     "text": [
      "Random number is 9\n",
      "Binary number is 1001\n"
     ]
    }
   ],
   "source": [
    "min = 0\n",
    "maks = 100\n",
    "\n",
    "antallQuibits = int(math.log2(maks)+1)\n",
    "c = q.QuantumCircuit(antallQuibits,antallQuibits)\n",
    "\n",
    "for j in range(antallQuibits):\n",
    "    c.h(j)\n",
    "    c.measure(j,j)\n",
    "        \n",
    "simulator = Aer.get_backend('qasm_simulator') \n",
    "result = q.execute(c,backend=simulator).result()\n",
    "counts = result.get_counts(c)\n",
    "\n",
    "high = 0\n",
    "randomNum = 0\n",
    "randomBin = 0\n",
    "for i in counts:\n",
    "    if counts[i] > high and int(realNumber(i)) < maks:\n",
    "        high = counts[i]\n",
    "        randomNum = int(realNumber(i))\n",
    "        randomBin = int(i)\n",
    "    \n",
    "num = realNumber(i)\n",
    "            \n",
    "print(f'Random number is {randomNum}')\n",
    "print(f'Binary number is {randomBin}')"
   ]
  },
  {
   "cell_type": "code",
   "execution_count": 269,
   "id": "dd4710c9",
   "metadata": {},
   "outputs": [],
   "source": [
    "def randomNumber(min,maks):\n",
    "    min = 0\n",
    "    maks = 100\n",
    "\n",
    "    antallQuibits = int(math.log2(maks)+1)\n",
    "    c = q.QuantumCircuit(antallQuibits,antallQuibits)\n",
    "\n",
    "    for j in range(antallQuibits):\n",
    "        c.h(j)\n",
    "        c.measure(j,j)\n",
    "        \n",
    "    simulator = Aer.get_backend('qasm_simulator') \n",
    "    result = q.execute(c,backend=simulator).result()\n",
    "    counts = result.get_counts(c)\n",
    "\n",
    "    high = 0\n",
    "    randomNum = 0\n",
    "    randomBin = 0\n",
    "    for i in counts:\n",
    "        if counts[i] > high and int(realNumber(i)) < maks:\n",
    "            high = counts[i]\n",
    "            randomNum = int(realNumber(i))\n",
    "            randomBin = int(i)\n",
    "    \n",
    "    num = realNumber(i)\n",
    "            \n",
    "    print(f'Random number is {randomNum}')\n",
    "    print(f'Binary number is {randomBin}')"
   ]
  },
  {
   "cell_type": "code",
   "execution_count": 271,
   "id": "33d8808b",
   "metadata": {},
   "outputs": [
    {
     "name": "stdout",
     "output_type": "stream",
     "text": [
      "Random number is 59\n",
      "Binary number is 111011\n",
      "Random number is 41\n",
      "Binary number is 101001\n",
      "Random number is 24\n",
      "Binary number is 11000\n",
      "Random number is 34\n",
      "Binary number is 100010\n",
      "Random number is 44\n",
      "Binary number is 101100\n",
      "Random number is 1\n",
      "Binary number is 1\n",
      "Random number is 67\n",
      "Binary number is 1000011\n",
      "Random number is 20\n",
      "Binary number is 10100\n",
      "Random number is 73\n",
      "Binary number is 1001001\n",
      "Random number is 74\n",
      "Binary number is 1001010\n"
     ]
    }
   ],
   "source": [
    "for x in range(10):\n",
    "    randomNumber(0,100)"
   ]
  },
  {
   "cell_type": "code",
   "execution_count": null,
   "id": "d35b7277",
   "metadata": {},
   "outputs": [],
   "source": []
  }
 ],
 "metadata": {
  "kernelspec": {
   "display_name": "Python 3",
   "language": "python",
   "name": "python3"
  },
  "language_info": {
   "codemirror_mode": {
    "name": "ipython",
    "version": 3
   },
   "file_extension": ".py",
   "mimetype": "text/x-python",
   "name": "python",
   "nbconvert_exporter": "python",
   "pygments_lexer": "ipython3",
   "version": "3.8.8"
  }
 },
 "nbformat": 4,
 "nbformat_minor": 5
}
